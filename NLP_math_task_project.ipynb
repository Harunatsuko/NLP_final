{
 "cells": [
  {
   "cell_type": "markdown",
   "id": "0bee2cf1",
   "metadata": {},
   "source": [
    "# Проектная работа по курсу NLP от OTUS"
   ]
  },
  {
   "cell_type": "markdown",
   "id": "482d9fa9",
   "metadata": {},
   "source": [
    "### на тему \"Оценка разнообразия и достоверности рерайтинга математических задач для школьников для различных техник prompt engineering\""
   ]
  },
  {
   "cell_type": "markdown",
   "id": "09aaddc7",
   "metadata": {},
   "source": [
    "#### План работы:\n",
    "Для различных техник prompt engineering оценить:\n",
    "\n",
    "а) разнообразие - частотность выбора тех или иных вариантов из списка, замена мест дествия и самих действий\n",
    "\n",
    "б) достоверность - соответствие параметрам рального мира \n",
    "\n",
    "в) понимание llm своей задачи - отсутствие замены исходных чисел, попытки предпринять решение задачи или выдумать что-то совершенно новое\n",
    "\n",
    "#### Данные собраны заранее с помощью GigaChat\n",
    "Исходные данные это процедурно сгенерированные задачи про транспортные средства на тему \"скорость, время, расстояние\"\n",
    "\n",
    "Задачей llm ставилось поменять текст задачи так, чтобы фигурировали не транспортные средства, а те или иные живые объекты из списка"
   ]
  },
  {
   "cell_type": "markdown",
   "id": "2f1294d7",
   "metadata": {},
   "source": [
    "##### Заимпортим нужные библиотеки"
   ]
  },
  {
   "cell_type": "code",
   "execution_count": 1,
   "id": "89ec0fbf",
   "metadata": {},
   "outputs": [],
   "source": [
    "import pandas as pd\n",
    "import numpy as np\n",
    "import re\n",
    "import matplotlib.pyplot as plt\n",
    "import seaborn as sns"
   ]
  },
  {
   "cell_type": "markdown",
   "id": "21cc5cd7",
   "metadata": {},
   "source": [
    "##### Загрузим данные"
   ]
  },
  {
   "cell_type": "code",
   "execution_count": 2,
   "id": "4e67effe",
   "metadata": {},
   "outputs": [],
   "source": [
    "df_zero_shot = pd.read_csv('zero_shot.csv')\n",
    "df_few_shot = pd.read_csv('few_shot.csv')\n",
    "df_imp_system = pd.read_csv('system+imp_word.csv')\n",
    "df_one_shot_system = pd.read_csv('system+one_shot+imagine.csv')\n",
    "df_system = pd.read_csv('system+imagine.csv')\n",
    "df_system_ins = pd.read_csv('system+imagine(ins).csv')\n",
    "\n",
    "dfs = {'zero_shot':df_zero_shot,\n",
    "       'few_shot':df_few_shot,\n",
    "       'system+imp_word':df_imp_system,\n",
    "       'system+one_shot+imagine':df_one_shot_system,\n",
    "       'system+imagine':df_system,\n",
    "       'system+imagine(ins)':df_system_ins}"
   ]
  },
  {
   "cell_type": "code",
   "execution_count": 3,
   "id": "eccb39fa",
   "metadata": {},
   "outputs": [
    {
     "data": {
      "text/plain": [
       "Index(['task_text', 'answer_num', 'gigachat_completion'], dtype='object')"
      ]
     },
     "execution_count": 3,
     "metadata": {},
     "output_type": "execute_result"
    }
   ],
   "source": [
    "df_zero_shot.columns"
   ]
  },
  {
   "cell_type": "markdown",
   "id": "40e77a53",
   "metadata": {},
   "source": [
    "Подготовим списки, которые использовались при генерации промтов"
   ]
  },
  {
   "cell_type": "code",
   "execution_count": 4,
   "id": "d54cf3d4",
   "metadata": {},
   "outputs": [],
   "source": [
    "ani1 = 'бабочк, кузнеч, жук, стрекоз, гусениц, улитк, пчел, шмел, клоп, мурав'\n",
    "loc1 = 'лес, опушк, болот, гор, пещер, пол, полян, дерев, куст, цвет'\n",
    "\n",
    "ani2 = 'лошад, волк, зай, зая, рыс, тиг, лев, льв, косул, олен, лос'\n",
    "loc2 = 'лес, пол, болот, гор'\n",
    "\n",
    "# с лисой только с корнем будут ошибки в анализе\n",
    "ani_fox = ', лиса, лису, лисе, лисы'\n",
    "ani2 = ani2+ani_fox"
   ]
  },
  {
   "cell_type": "markdown",
   "id": "38a9ebfc",
   "metadata": {},
   "source": [
    "##### Анализ разнообразия"
   ]
  },
  {
   "cell_type": "markdown",
   "id": "ec0d1d10",
   "metadata": {},
   "source": [
    "Частотность выбора тех или иных вариантов из списка, замена мест дествия и самих действий"
   ]
  },
  {
   "cell_type": "code",
   "execution_count": 5,
   "id": "a70965b6",
   "metadata": {},
   "outputs": [],
   "source": [
    "def is_in_ani_list(row):\n",
    "    words = row.replace(',',' ').replace('.',' ')\n",
    "    words = re.sub(\"\\s\\s+\", \" \", words)\n",
    "    words = words.split(' ')\n",
    "    words = [w.lower() for w in words]\n",
    "    for a2 in ani2.split(', '):\n",
    "        for w in words:\n",
    "            if a2 in w:\n",
    "                return a2\n",
    "    return 'Не из списка'"
   ]
  },
  {
   "cell_type": "code",
   "execution_count": 6,
   "id": "20b0f824",
   "metadata": {},
   "outputs": [
    {
     "data": {
      "text/plain": [
       "зай             49\n",
       "Не из списка    30\n",
       "олен            12\n",
       "лошад            7\n",
       "волк             2\n",
       "Name: gigachat_completion, dtype: int64"
      ]
     },
     "execution_count": 6,
     "metadata": {},
     "output_type": "execute_result"
    }
   ],
   "source": [
    "sers = []\n",
    "for k, df in dfs.items():\n",
    "    \n",
    "    # потому что тут подставлялись списки, а не отдельно\n",
    "    if k in ['zero_shot', 'few_shot']:\n",
    "        \n",
    "        ser = df['gigachat_completion'].apply(is_in_ani_list)\n",
    "        sers.append(ser)\n",
    "        \n",
    "sers = pd.concat(sers)\n",
    "sers.value_counts()"
   ]
  },
  {
   "cell_type": "code",
   "execution_count": 7,
   "id": "1a7c290d",
   "metadata": {},
   "outputs": [
    {
     "data": {
      "image/png": "[encoded data removed]",
      "text/plain": [
       "<Figure size 720x360 with 1 Axes>"
      ]
     },
     "metadata": {
      "needs_background": "light"
     },
     "output_type": "display_data"
    }
   ],
   "source": [
    "fig, ax = plt.subplots(figsize=(10,5))\n",
    "ax.hist(sers.values)\n",
    "ax.set_title('Частотность выбора животных из списка\\n ({})'.format(ani2[:-19]))\n",
    "plt.show()"
   ]
  },
  {
   "cell_type": "markdown",
   "id": "fc233636",
   "metadata": {},
   "source": [
    "**Вывод**: с разнообразием объектов справляется не очень хорошо"
   ]
  },
  {
   "cell_type": "code",
   "execution_count": 8,
   "id": "620cf27d",
   "metadata": {},
   "outputs": [],
   "source": [
    "def is_in_loc_list(row):\n",
    "    words = row.replace(',',' ').replace('.',' ')\n",
    "    words = re.sub(\"\\s\\s+\", \" \", words)\n",
    "    words = words.split(' ')\n",
    "    words = [w.lower() for w in words]\n",
    "    for lc2 in loc2.split(', '):\n",
    "        for w in words:\n",
    "            if lc2 in w:\n",
    "                return lc2\n",
    "    return 'Не из списка'"
   ]
  },
  {
   "cell_type": "code",
   "execution_count": 9,
   "id": "d8f5e939",
   "metadata": {},
   "outputs": [
    {
     "data": {
      "text/plain": [
       "лес             65\n",
       "пол             14\n",
       "гор             11\n",
       "Не из списка    10\n",
       "Name: gigachat_completion, dtype: int64"
      ]
     },
     "execution_count": 9,
     "metadata": {},
     "output_type": "execute_result"
    }
   ],
   "source": [
    "sers = []\n",
    "for k, df in dfs.items():\n",
    "    \n",
    "    # потому что тут подставлялись списки, а не отдельно\n",
    "    if k in ['zero_shot', 'few_shot']:\n",
    "        \n",
    "        ser = df['gigachat_completion'].apply(is_in_loc_list)\n",
    "        sers.append(ser)\n",
    "        \n",
    "sers = pd.concat(sers)\n",
    "sers.value_counts()"
   ]
  },
  {
   "cell_type": "code",
   "execution_count": 10,
   "id": "44f5e667",
   "metadata": {},
   "outputs": [
    {
     "data": {
      "image/png": "[encoded data removed]",
      "text/plain": [
       "<Figure size 720x360 with 1 Axes>"
      ]
     },
     "metadata": {
      "needs_background": "light"
     },
     "output_type": "display_data"
    }
   ],
   "source": [
    "fig, ax = plt.subplots(figsize=(10,5))\n",
    "ax.hist(sers.values)\n",
    "ax.set_title('Частотность выбора мест из списка\\n ({})'.format(loc2))\n",
    "plt.show()"
   ]
  },
  {
   "cell_type": "markdown",
   "id": "381d3cd1",
   "metadata": {},
   "source": [
    "**Вывод**: с разнообразием мест справляется не очень хорошо"
   ]
  },
  {
   "cell_type": "code",
   "execution_count": 11,
   "id": "5769841f",
   "metadata": {},
   "outputs": [],
   "source": [
    "def is_in_act_list(row):\n",
    "    words = row.replace(',',' ').replace('.',' ')\n",
    "    words = re.sub(\"\\s\\s+\", \" \", words)\n",
    "    words = words.split(' ')\n",
    "    words = [w.lower() for w in words]\n",
    "    for act in ['шел', 'ехал', 'едет', 'бежал','вышл', 'вылет', 'выпрыг', 'двигал']:\n",
    "        for w in words:\n",
    "            if act in w:\n",
    "                return act\n",
    "    return 'Не из списка'"
   ]
  },
  {
   "cell_type": "code",
   "execution_count": 12,
   "id": "92cf01ac",
   "metadata": {},
   "outputs": [
    {
     "data": {
      "text/plain": [
       "ехал            171\n",
       "бежал            52\n",
       "вылет            42\n",
       "Не из списка     12\n",
       "двигал           10\n",
       "выпрыг            5\n",
       "шел               4\n",
       "вышл              3\n",
       "едет              1\n",
       "Name: gigachat_completion, dtype: int64"
      ]
     },
     "execution_count": 12,
     "metadata": {},
     "output_type": "execute_result"
    }
   ],
   "source": [
    "sers = []\n",
    "for k, df in dfs.items():\n",
    "    \n",
    "    ser = df['gigachat_completion'].apply(is_in_act_list)\n",
    "    sers.append(ser)\n",
    "        \n",
    "sers = pd.concat(sers)\n",
    "sers.value_counts()"
   ]
  },
  {
   "cell_type": "code",
   "execution_count": 13,
   "id": "33e81df6",
   "metadata": {},
   "outputs": [
    {
     "data": {
      "image/png": "[encoded data removed]",
      "text/plain": [
       "<Figure size 720x360 with 1 Axes>"
      ]
     },
     "metadata": {
      "needs_background": "light"
     },
     "output_type": "display_data"
    }
   ],
   "source": [
    "fig, ax = plt.subplots(figsize=(10,5))\n",
    "colors = [(np.random.randint(255)/255,\n",
    "          np.random.randint(255)/255,\n",
    "          np.random.randint(255)/255) for _ in range(len(sers.value_counts().to_dict()))]\n",
    "N, bins, patches = ax.hist(sers.values, bins = len(sers.value_counts().to_dict()), edgecolor='white')\n",
    "\n",
    "for i in range(len(sers.value_counts().to_dict())):\n",
    "    patches[i].set_facecolor(colors[i])\n",
    "\n",
    "ax.set_title('Частотность замены действий')\n",
    "plt.show()"
   ]
  },
  {
   "cell_type": "markdown",
   "id": "3d806685",
   "metadata": {},
   "source": [
    "**Вывод**: с разнообразием в целом при подаче списка возможных вариантов есть сильно более частотные варианты выбора и такие, которые не встречаются никогда; можно говорить, что с разнообразием llm справляется довольно плохо."
   ]
  },
  {
   "cell_type": "markdown",
   "id": "c086a4ac",
   "metadata": {},
   "source": [
    "##### Анализ достоверности"
   ]
  },
  {
   "cell_type": "markdown",
   "id": "34dee2d1",
   "metadata": {},
   "source": [
    "Соответствие параметрам рального мира"
   ]
  },
  {
   "cell_type": "code",
   "execution_count": 14,
   "id": "97db6c98",
   "metadata": {},
   "outputs": [],
   "source": [
    "def is_correct_action_for_animal(row):\n",
    "    words = row.replace(',',' ').replace('.',' ')\n",
    "    words = re.sub(\"\\s\\s+\", \" \", words)\n",
    "    words = words.split(' ')\n",
    "    words = [w.lower() for w in words]\n",
    "    \n",
    "    obj_animal = False\n",
    "                \n",
    "    for a1 in ani1.split(', '):\n",
    "        for w in words:\n",
    "            if a1 in w:\n",
    "                obj_animal = True\n",
    "    for a2 in ani2.split(', ')+['животн']:\n",
    "        for w in words:\n",
    "            if a2 in w:\n",
    "                obj_animal = True\n",
    "                \n",
    "    if obj_animal:           \n",
    "        act = 'ехал'\n",
    "        for w in words:\n",
    "            if act in w:\n",
    "                return 'Некорректно'\n",
    "        return 'Корректно'\n",
    "    else:\n",
    "        for act in ['ехал', 'двигал']:\n",
    "            for w in words:\n",
    "                if act in w:\n",
    "                    return 'Корректно'\n",
    "        return 'Некорректно'"
   ]
  },
  {
   "cell_type": "code",
   "execution_count": 15,
   "id": "c44561e7",
   "metadata": {},
   "outputs": [
    {
     "data": {
      "text/plain": [
       "Корректно      170\n",
       "Некорректно    130\n",
       "Name: gigachat_completion, dtype: int64"
      ]
     },
     "execution_count": 15,
     "metadata": {},
     "output_type": "execute_result"
    }
   ],
   "source": [
    "sers = []\n",
    "for k, df in dfs.items():\n",
    "    \n",
    "    ser = df['gigachat_completion'].apply(is_correct_action_for_animal)\n",
    "    sers.append(ser)\n",
    "        \n",
    "sers = pd.concat(sers)\n",
    "sers.value_counts()"
   ]
  },
  {
   "cell_type": "code",
   "execution_count": 16,
   "id": "b3a2e823",
   "metadata": {},
   "outputs": [
    {
     "data": {
      "image/png": "[encoded data removed]",
      "text/plain": [
       "<Figure size 504x288 with 1 Axes>"
      ]
     },
     "metadata": {
      "needs_background": "light"
     },
     "output_type": "display_data"
    }
   ],
   "source": [
    "fig, ax = plt.subplots(figsize=(7,4))\n",
    "ax.hist(sers.values)\n",
    "ax.set_title('Корректность исправления')\n",
    "plt.show()"
   ]
  },
  {
   "cell_type": "markdown",
   "id": "d019f881",
   "metadata": {},
   "source": [
    "Посмотрим в разрезе техник prompt engineering"
   ]
  },
  {
   "cell_type": "code",
   "execution_count": 17,
   "id": "fb7f4161",
   "metadata": {},
   "outputs": [],
   "source": [
    "promt_tech = {'zero_shot':'zero_shot',\n",
    "       'few_shot':'few_shot',\n",
    "       'system+imp_word':'detailed+few_shot+important',\n",
    "       'system+one_shot+imagine':'detailed+one_shot',\n",
    "       'system+imagine':'detailed(ani)',\n",
    "       'system+imagine(ins)':'detailed(ins)'}"
   ]
  },
  {
   "cell_type": "code",
   "execution_count": 18,
   "id": "a460b0b0",
   "metadata": {},
   "outputs": [],
   "source": [
    "sers = {'is_correct':[], 'prompt':[]}\n",
    "for k, df in dfs.items():\n",
    "    \n",
    "    ser = df['gigachat_completion'].apply(is_correct_action_for_animal)\n",
    "    sers['is_correct'] = sers['is_correct'] + list(ser.values)\n",
    "    sers['prompt'] = sers['prompt'] + [promt_tech[k] for _ in range(len(df))]"
   ]
  },
  {
   "cell_type": "code",
   "execution_count": 19,
   "id": "2322b81b",
   "metadata": {},
   "outputs": [],
   "source": [
    "stats = pd.DataFrame(sers)"
   ]
  },
  {
   "cell_type": "code",
   "execution_count": 20,
   "id": "d297da18",
   "metadata": {},
   "outputs": [
    {
     "data": {
      "image/png": "[encoded data removed]",
      "text/plain": [
       "<Figure size 720x504 with 1 Axes>"
      ]
     },
     "metadata": {
      "needs_background": "light"
     },
     "output_type": "display_data"
    }
   ],
   "source": [
    "fig,ax = plt.subplots(figsize=(10,7))\n",
    "sns.histplot(data=stats, x ='is_correct', hue='prompt', multiple=\"dodge\", shrink=.8)\n",
    "plt.show()"
   ]
  },
  {
   "cell_type": "markdown",
   "id": "69881d46",
   "metadata": {},
   "source": [
    "##### Анализ понимания llm своей задачи"
   ]
  },
  {
   "cell_type": "code",
   "execution_count": 21,
   "id": "9f3c680d",
   "metadata": {},
   "outputs": [],
   "source": [
    "def is_same_numbers(row):\n",
    "    task_in = row['task_text']\n",
    "    task_out = row['gigachat_completion']\n",
    "    \n",
    "    nums_in = re.findall(r'\\d+', task_in)\n",
    "    nums_out = re.findall(r'\\d+', task_out)\n",
    "    \n",
    "    if nums_in == nums_out:\n",
    "        return 'Совпало'\n",
    "    else:\n",
    "#         print(task_in)\n",
    "#         print('\\n----------------------------------------------------------------------------')\n",
    "#         print(task_out)\n",
    "#         print('\\n============================================================================')\n",
    "        return 'Не совпало'"
   ]
  },
  {
   "cell_type": "code",
   "execution_count": 22,
   "id": "59bad708",
   "metadata": {
    "scrolled": false
   },
   "outputs": [
    {
     "data": {
      "text/plain": [
       "Совпало       249\n",
       "Не совпало     51\n",
       "dtype: int64"
      ]
     },
     "execution_count": 22,
     "metadata": {},
     "output_type": "execute_result"
    }
   ],
   "source": [
    "sers = []\n",
    "for k, df in dfs.items():\n",
    "    \n",
    "    ser = df.apply(is_same_numbers, axis=1)\n",
    "    sers.append(ser)\n",
    "        \n",
    "sers = pd.concat(sers)\n",
    "sers.value_counts()"
   ]
  },
  {
   "cell_type": "code",
   "execution_count": 23,
   "id": "ec142310",
   "metadata": {},
   "outputs": [
    {
     "data": {
      "image/png": "[encoded data removed]",
      "text/plain": [
       "<Figure size 504x288 with 1 Axes>"
      ]
     },
     "metadata": {
      "needs_background": "light"
     },
     "output_type": "display_data"
    }
   ],
   "source": [
    "fig, ax = plt.subplots(figsize=(7,4))\n",
    "ax.hist(sers.values)\n",
    "ax.set_title('Числа не заменены')\n",
    "plt.show()"
   ]
  },
  {
   "cell_type": "markdown",
   "id": "4460d338",
   "metadata": {},
   "source": [
    "Теперь посмотрим в разрезе различных техник промпт-инжиниринга"
   ]
  },
  {
   "cell_type": "code",
   "execution_count": 24,
   "id": "933cdebb",
   "metadata": {},
   "outputs": [],
   "source": [
    "sers = {'is_correct':[], 'prompt':[]}\n",
    "for k, df in dfs.items():\n",
    "    \n",
    "    ser = df.apply(is_same_numbers, axis=1)\n",
    "    sers['is_correct'] = sers['is_correct'] + list(ser.values)\n",
    "    sers['prompt'] = sers['prompt'] + [promt_tech[k] for _ in range(len(df))]"
   ]
  },
  {
   "cell_type": "code",
   "execution_count": 25,
   "id": "7e485f1f",
   "metadata": {},
   "outputs": [],
   "source": [
    "stats = pd.DataFrame(sers)"
   ]
  },
  {
   "cell_type": "code",
   "execution_count": 26,
   "id": "330acb3c",
   "metadata": {},
   "outputs": [
    {
     "data": {
      "image/png": "[encoded data removed]",
      "text/plain": [
       "<Figure size 720x504 with 1 Axes>"
      ]
     },
     "metadata": {
      "needs_background": "light"
     },
     "output_type": "display_data"
    }
   ],
   "source": [
    "fig,ax = plt.subplots(figsize=(10,7))\n",
    "sns.histplot(data=stats, x ='is_correct', hue='prompt', multiple=\"dodge\", shrink=.8)\n",
    "plt.show()"
   ]
  },
  {
   "cell_type": "markdown",
   "id": "6909e2fc",
   "metadata": {},
   "source": [
    "### Отдельная тема - решение задачи :)"
   ]
  },
  {
   "cell_type": "markdown",
   "id": "f3f3e418",
   "metadata": {},
   "source": [
    "Zero shot"
   ]
  },
  {
   "cell_type": "code",
   "execution_count": 27,
   "id": "86f3ef33",
   "metadata": {},
   "outputs": [],
   "source": [
    "df = pd.read_csv('math_solving.csv')"
   ]
  },
  {
   "cell_type": "code",
   "execution_count": 28,
   "id": "43b6f5e2",
   "metadata": {},
   "outputs": [],
   "source": [
    "def compare_answ(row):\n",
    "    gt = row['answer_num']\n",
    "    pred = row['gigachat_completion']\n",
    "    try:\n",
    "        gt = int(gt)\n",
    "        pred = int(pred)\n",
    "        return gt == pred\n",
    "    except Exception as e:\n",
    "        print(e)\n",
    "        return False"
   ]
  },
  {
   "cell_type": "code",
   "execution_count": 29,
   "id": "2b36a2f4",
   "metadata": {},
   "outputs": [
    {
     "name": "stdout",
     "output_type": "stream",
     "text": [
      "invalid literal for int() with base 10: '10 км'\n",
      "invalid literal for int() with base 10: '44 км/ч'\n",
      "invalid literal for int() with base 10: '30 км/ч'\n",
      "invalid literal for int() with base 10: '30 км/ч'\n",
      "invalid literal for int() with base 10: '56 км/ч'\n",
      "invalid literal for int() with base 10: '64 км/ч'\n"
     ]
    }
   ],
   "source": [
    "ser = df.apply(lambda x: compare_answ(x), axis=1)"
   ]
  },
  {
   "cell_type": "code",
   "execution_count": 30,
   "id": "26c6ac00",
   "metadata": {},
   "outputs": [
    {
     "data": {
      "text/plain": [
       "False    195\n",
       "True       5\n",
       "dtype: int64"
      ]
     },
     "execution_count": 30,
     "metadata": {},
     "output_type": "execute_result"
    }
   ],
   "source": [
    "ser.value_counts()"
   ]
  },
  {
   "cell_type": "markdown",
   "id": "112f8817",
   "metadata": {},
   "source": [
    "Chain of thoughts"
   ]
  },
  {
   "cell_type": "code",
   "execution_count": 31,
   "id": "b493aef8",
   "metadata": {},
   "outputs": [],
   "source": [
    "df = pd.read_csv('math_solving_chain_o_thoughts.csv')"
   ]
  },
  {
   "cell_type": "code",
   "execution_count": 32,
   "id": "4e26b4d2",
   "metadata": {},
   "outputs": [],
   "source": [
    "def compare_answ(row):\n",
    "    gt = row['answer_num']\n",
    "    pred = row['pred_answ']\n",
    "    try:\n",
    "        gt = int(gt)\n",
    "        pred = int(pred)\n",
    "        return gt == pred\n",
    "    except Exception as e:\n",
    "        print(e)\n",
    "        return False"
   ]
  },
  {
   "cell_type": "code",
   "execution_count": 33,
   "id": "9626d7b7",
   "metadata": {},
   "outputs": [
    {
     "name": "stdout",
     "output_type": "stream",
     "text": [
      "cannot convert float NaN to integer\n",
      "cannot convert float NaN to integer\n",
      "cannot convert float NaN to integer\n"
     ]
    }
   ],
   "source": [
    "df['correct'] = df.apply(lambda x: compare_answ(x), axis=1)"
   ]
  },
  {
   "cell_type": "code",
   "execution_count": 34,
   "id": "53530821",
   "metadata": {},
   "outputs": [
    {
     "data": {
      "text/plain": [
       "True     104\n",
       "False     96\n",
       "Name: correct, dtype: int64"
      ]
     },
     "execution_count": 34,
     "metadata": {},
     "output_type": "execute_result"
    }
   ],
   "source": [
    "df['correct'].value_counts()"
   ]
  },
  {
   "cell_type": "markdown",
   "id": "7c9e2071",
   "metadata": {},
   "source": [
    "В промпте были примеры задач типа 4 и 2, нужно было найти расстояние"
   ]
  },
  {
   "cell_type": "code",
   "execution_count": 35,
   "id": "df2b18de",
   "metadata": {},
   "outputs": [
    {
     "data": {
      "text/plain": [
       "task_type  correct\n",
       "1          False      41\n",
       "           True       14\n",
       "2          False      25\n",
       "           True       21\n",
       "3          False      26\n",
       "           True       14\n",
       "4          True       55\n",
       "           False       4\n",
       "Name: correct, dtype: int64"
      ]
     },
     "execution_count": 35,
     "metadata": {},
     "output_type": "execute_result"
    }
   ],
   "source": [
    "df.groupby('task_type')['correct'].value_counts()"
   ]
  },
  {
   "cell_type": "code",
   "execution_count": 36,
   "id": "a68f49c3",
   "metadata": {},
   "outputs": [],
   "source": [
    "# исправление небольшого косяка в данных\n",
    "df['unknown'] = df.apply(lambda x: 'distance' if x['task_type'] == 4 else x['unknown'], axis=1)"
   ]
  },
  {
   "cell_type": "code",
   "execution_count": 37,
   "id": "9503e449",
   "metadata": {},
   "outputs": [
    {
     "data": {
      "text/plain": [
       "unknown      correct\n",
       "distance     True       81\n",
       "             False      29\n",
       "first_speed  False      38\n",
       "             True        4\n",
       "time         False      29\n",
       "             True       19\n",
       "Name: correct, dtype: int64"
      ]
     },
     "execution_count": 37,
     "metadata": {},
     "output_type": "execute_result"
    }
   ],
   "source": [
    "df.groupby('unknown')['correct'].value_counts()"
   ]
  },
  {
   "cell_type": "code",
   "execution_count": 38,
   "id": "5eb708b5",
   "metadata": {},
   "outputs": [
    {
     "data": {
      "text/plain": [
       "(0.35802469135802467, 9.5, 0.6551724137931034)"
      ]
     },
     "execution_count": 38,
     "metadata": {},
     "output_type": "execute_result"
    }
   ],
   "source": [
    "29/81, 38/4, 19/29"
   ]
  },
  {
   "cell_type": "markdown",
   "id": "e43de3b3",
   "metadata": {},
   "source": [
    "**Выводы:** можно предположить зависимость качества решения задачи от наличия примера такого типа задачи в промпте"
   ]
  },
  {
   "cell_type": "code",
   "execution_count": null,
   "id": "9b27ab60",
   "metadata": {},
   "outputs": [],
   "source": []
  }
 ],
 "metadata": {
  "kernelspec": {
   "display_name": "Python 3",
   "language": "python",
   "name": "python3"
  },
  "language_info": {
   "codemirror_mode": {
    "name": "ipython",
    "version": 3
   },
   "file_extension": ".py",
   "mimetype": "text/x-python",
   "name": "python",
   "nbconvert_exporter": "python",
   "pygments_lexer": "ipython3",
   "version": "3.8.8"
  }
 },
 "nbformat": 4,
 "nbformat_minor": 5
}
